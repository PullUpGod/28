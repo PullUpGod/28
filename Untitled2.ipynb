{
 "cells": [
  {
   "cell_type": "code",
   "execution_count": 1,
   "metadata": {},
   "outputs": [],
   "source": [
    "import random\n",
    "\n",
    "suits = ('Hearts', 'Diamonds', 'Spades', 'Clubs')\n",
    "ranks = ('Two', 'Three', 'Four', 'Five', 'Six', 'Seven', 'Eight', 'Nine', 'Ten', 'Jack', 'Queen', 'King', 'Ace')\n",
    "values = {'Two':2, 'Three':3, 'Four':4, 'Five':5, 'Six':6, 'Seven':7, 'Eight':8, \n",
    "            'Nine':9, 'Ten':10, 'Jack':11, 'Queen':12, 'King':13, 'Ace':14}\n",
    "\n",
    "class Card():\n",
    "    \"\"\"\n",
    "    This creates cards with a specific suit and rank\n",
    "    \"\"\"\n",
    "    def __init__(self,suit,rank):\n",
    "        self.suit = suit\n",
    "        self.rank = rank\n",
    "        self.value = values[rank]\n",
    "        \n",
    "    def __str__(self):\n",
    "        return f\"{self.rank} of {self.suit}\"\n",
    "    \n",
    "class Deck():\n",
    "    \"\"\"\n",
    "    This creates the Deck\n",
    "    \"\"\"\n",
    "    def __init__(self):\n",
    "        self.cards = []\n",
    "        for suit in suits:\n",
    "            for rank in ranks:\n",
    "                self.cards.append(Card(suit,rank))\n",
    "                \n",
    "    def shuffle(self):\n",
    "        random.shuffle(self.cards)\n",
    "                \n",
    "    def deal_one(self):\n",
    "        return self.cards.pop()\n",
    "        \n",
    "        \n",
    "min_bet = 5\n",
    "        \n",
    "class Player():\n",
    "    \"\"\"\n",
    "    This creates the players and their possible actions\n",
    "    \"\"\"\n",
    "    \n",
    "    def __init__(self,name,money,cards,bet=min_bet):\n",
    "        self.name = name\n",
    "        self.money = money\n",
    "        self.cards = cards\n",
    "        self.bet = bet\n",
    "        print(f\"{self.name} has entered the game!\")\n",
    "        \n",
    "    def __str__(self):\n",
    "        return f\"{self.name} has ${self.money}\"\n",
    "    \n",
    "    def add_cards(self,new_cards):\n",
    "        self.cards.append(new_cards)\n",
    "            \n",
    "    def bets(self):\n",
    "        add = float(input(\"Would you like to bet any more? \"))\n",
    "        self.bet += add\n",
    "        "
   ]
  },
  {
   "cell_type": "code",
   "execution_count": null,
   "metadata": {},
   "outputs": [],
   "source": []
  },
  {
   "cell_type": "code",
   "execution_count": 2,
   "metadata": {},
   "outputs": [],
   "source": [
    "#input(\"How many players are there? \")"
   ]
  },
  {
   "cell_type": "code",
   "execution_count": 3,
   "metadata": {},
   "outputs": [
    {
     "name": "stdout",
     "output_type": "stream",
     "text": [
      "Player 1, what is your name? Ryan\n",
      "Player 2, what is your name? Kyra\n"
     ]
    }
   ],
   "source": [
    "ans1 = input(\"Player 1, what is your name? \")\n",
    "ans2 = input(\"Player 2, what is your name? \")"
   ]
  },
  {
   "cell_type": "code",
   "execution_count": null,
   "metadata": {},
   "outputs": [],
   "source": []
  },
  {
   "cell_type": "code",
   "execution_count": 4,
   "metadata": {},
   "outputs": [
    {
     "name": "stdout",
     "output_type": "stream",
     "text": [
      "A person was created\n",
      "A person was created\n",
      "Ten of Spades\n"
     ]
    }
   ],
   "source": [
    "p1 = Player(ans1,100,[])\n",
    "p2 = Player(ans2,100,[])\n",
    "\n",
    "House_Deck = Deck()\n",
    "House_Deck.shuffle()\n",
    "print(House_Deck.cards[0])"
   ]
  },
  {
   "cell_type": "code",
   "execution_count": 5,
   "metadata": {},
   "outputs": [
    {
     "name": "stdout",
     "output_type": "stream",
     "text": [
      "[<__main__.Card object at 0x00000159CA44A608>, <__main__.Card object at 0x00000159CA44A788>]\n"
     ]
    }
   ],
   "source": [
    "for x in range(2):\n",
    "    p1.add_cards(House_Deck.deal_one())\n",
    "    p2.add_cards(House_Deck.deal_one())\n",
    "    \n",
    "print(p1.cards)"
   ]
  },
  {
   "cell_type": "code",
   "execution_count": 6,
   "metadata": {},
   "outputs": [
    {
     "data": {
      "text/plain": [
       "<__main__.Card at 0x159ca44a848>"
      ]
     },
     "execution_count": 6,
     "metadata": {},
     "output_type": "execute_result"
    }
   ],
   "source": [
    "House_Deck.cards[0]"
   ]
  },
  {
   "cell_type": "code",
   "execution_count": 7,
   "metadata": {
    "scrolled": true
   },
   "outputs": [
    {
     "name": "stdout",
     "output_type": "stream",
     "text": [
      "Queen of Clubs\n"
     ]
    }
   ],
   "source": [
    "print(Card(\"Clubs\",\"Queen\"))"
   ]
  },
  {
   "cell_type": "code",
   "execution_count": 8,
   "metadata": {},
   "outputs": [
    {
     "data": {
      "text/plain": [
       "48"
      ]
     },
     "execution_count": 8,
     "metadata": {},
     "output_type": "execute_result"
    }
   ],
   "source": [
    "len(House_Deck.cards)"
   ]
  },
  {
   "cell_type": "code",
   "execution_count": 9,
   "metadata": {},
   "outputs": [
    {
     "data": {
      "text/plain": [
       "[<__main__.Card at 0x159ca44a608>, <__main__.Card at 0x159ca44a788>]"
      ]
     },
     "execution_count": 9,
     "metadata": {},
     "output_type": "execute_result"
    }
   ],
   "source": [
    "p1.cards"
   ]
  },
  {
   "cell_type": "code",
   "execution_count": 10,
   "metadata": {},
   "outputs": [
    {
     "name": "stdout",
     "output_type": "stream",
     "text": [
      "52\n",
      "Ace of Spades\n",
      "Six of Spades\n",
      "[<__main__.Card object at 0x00000159CA43D848>]\n"
     ]
    }
   ],
   "source": [
    "d1=Deck()\n",
    "d1.shuffle()\n",
    "print(len(d1.cards))\n",
    "print(d1.cards[0])\n",
    "print(d1.deal_one())\n",
    "r1=[]\n",
    "r1.append(d1.deal_one())\n",
    "print(r1)"
   ]
  },
  {
   "cell_type": "code",
   "execution_count": 11,
   "metadata": {},
   "outputs": [
    {
     "data": {
      "text/plain": [
       "<__main__.Card at 0x159ca43d788>"
      ]
     },
     "execution_count": 11,
     "metadata": {},
     "output_type": "execute_result"
    }
   ],
   "source": [
    "d1.cards[-1]\n",
    "\n",
    "name1 = input(\"Player 1, what is your name? \")\n",
    "name2 = input(\"Player 2, what is your name? \")\n",
    "\n",
    "player1 = Player(name1,100,[Card(\"Diamonds\",\"Ten\"),Card(\"Hearts\",\"Two\")])\n",
    "player2 = Player(name2,100,[Card(\"Hearts\",\"Queen\"),Card(\"Clubs\",\"Ace\")])\n",
    "\n",
    "players=[player1,player2]\n"
   ]
  },
  {
   "cell_type": "code",
   "execution_count": 12,
   "metadata": {},
   "outputs": [],
   "source": []
  },
  {
   "cell_type": "code",
   "execution_count": 1,
   "metadata": {},
   "outputs": [
    {
     "name": "stdout",
     "output_type": "stream",
     "text": [
      "How many players are there? 2\n",
      "Player 1, what is your name? Ryan\n",
      "Ryan has entered the game!\n",
      "\n",
      "Player 2, what is your name? Louis\n",
      "Louis has entered the game!\n",
      "\n",
      "____________________________________________________________________________________________________ \n",
      "\n",
      "\n",
      "New Round\n",
      "\n",
      "Ryan has bet $5!:\n",
      "Queen of Clubs\n",
      "Ace of Spades\n",
      "\n",
      "Louis has bet $5!:\n",
      "Two of Spades\n",
      "King of Diamonds\n",
      "\n",
      "Ryan, how much more would you like to bet? 0\n",
      "Louis, how much more would you like to bet? 10\n",
      "Ryan, would you like another card? (y/n)n\n",
      "Louis, would you like another card? (y/n)y\n",
      "\n",
      " ----------------------------------------------------------------------------------------------------\n",
      "Show results? \n",
      "----------------------------------------------------------------------------------------------------\n",
      "Ryan has bet $5.0!:\n",
      "Queen of Clubs\n",
      "Ace of Spades\n",
      "\n",
      "Louis has bet $15.0!:\n",
      "Two of Spades\n",
      "King of Diamonds\n",
      "Nine of Diamonds\n",
      "\n",
      "Ryan, how much more would you like to bet? 0\n",
      "Louis, how much more would you like to bet? 0\n",
      "Ryan, would you like another card? (y/n)n\n",
      "Louis, would you like another card? (y/n)y\n",
      "\n",
      " ----------------------------------------------------------------------------------------------------\n",
      "Show results? \n",
      "----------------------------------------------------------------------------------------------------\n",
      "Ryan has bet $5.0!:\n",
      "Queen of Clubs\n",
      "Ace of Spades\n",
      "\n",
      "Louis has bet $15.0! Louis has Busted!\n",
      "\n",
      "Ryan has won $15.0\n",
      "Ryan now has $115.0\n",
      "Louis now has $85.0\n",
      "____________________________________________________________________________________________________\n",
      "New Round? \n",
      "____________________________________________________________________________________________________ \n",
      "\n",
      "\n",
      "New Round\n",
      "\n",
      "Ryan has bet $5!:\n",
      "Four of Spades\n",
      "Ace of Diamonds\n",
      "\n",
      "Louis has bet $5!:\n",
      "Four of Diamonds\n",
      "Ten of Spades\n",
      "\n",
      "Ryan, how much more would you like to bet? 1\n",
      "Louis, how much more would you like to bet? 1\n",
      "Ryan, would you like another card? (y/n)n\n",
      "Louis, would you like another card? (y/n)n\n",
      "\n",
      " ----------------------------------------------------------------------------------------------------\n",
      "Show results? \n",
      "----------------------------------------------------------------------------------------------------\n",
      "Ryan has bet $6.0!:\n",
      "Four of Spades\n",
      "Ace of Diamonds\n",
      "\n",
      "Louis has bet $6.0!:\n",
      "Four of Diamonds\n",
      "Ten of Spades\n",
      "\n",
      "Ryan has won $6.0\n",
      "Ryan now has $121.0\n",
      "Louis now has $79.0\n",
      "____________________________________________________________________________________________________\n",
      "New Round? \n"
     ]
    }
   ],
   "source": [
    "import random\n",
    "\n",
    "suits = ('Hearts', 'Diamonds', 'Spades', 'Clubs')\n",
    "ranks = ('Two', 'Three', 'Four', 'Five', 'Six', 'Seven', 'Eight', 'Nine', 'Ten', 'Jack', 'Queen', 'King', 'Ace')\n",
    "values = {'Two':2, 'Three':3, 'Four':4, 'Five':5, 'Six':6, 'Seven':7, 'Eight':8, \n",
    "            'Nine':9, 'Ten':10, 'Jack':11, 'Queen':12, 'King':13, 'Ace':14}\n",
    "\n",
    "class Card():\n",
    "    \"\"\"\n",
    "    This creates cards with a specific suit and rank\n",
    "    \"\"\"\n",
    "    def __init__(self,suit,rank):\n",
    "        self.suit = suit\n",
    "        self.rank = rank\n",
    "        self.value = values[rank]\n",
    "        \n",
    "    def __str__(self):\n",
    "        return f\"{self.rank} of {self.suit}\"\n",
    "    \n",
    "class Deck():\n",
    "    \"\"\"\n",
    "    This creates the Deck\n",
    "    \"\"\"\n",
    "    def __init__(self):\n",
    "        self.cards = []\n",
    "        for suit in suits:\n",
    "            for rank in ranks:\n",
    "                self.cards.append(Card(suit,rank))\n",
    "                \n",
    "    def shuffle(self):\n",
    "        random.shuffle(self.cards)\n",
    "                \n",
    "    def deal_one(self):\n",
    "        return self.cards.pop()\n",
    "    \n",
    "    def add_cards(self,new_cards):\n",
    "        self.cards.append(new_cards)\n",
    "    \n",
    "class House():\n",
    "    \"\"\"\n",
    "    This creates the house\n",
    "    \"\"\"\n",
    "    def __init__(self,pool,bank,deck):\n",
    "        self.pool = 0\n",
    "        self.bank = 0\n",
    "        self.deck = deck\n",
    "        \n",
    "    def __str__(self):\n",
    "        return f\"${self.pool} are currently in play\"\n",
    "    \n",
    "    def add_cards(self,new_cards):\n",
    "        self.deck.add_cards(new_cards)\n",
    "        \n",
    "min_bet = 5\n",
    "        \n",
    "class Player():\n",
    "    \"\"\"\n",
    "    This creates the players and their possible actions\n",
    "    \"\"\"\n",
    "    \n",
    "    def __init__(self,name,money,cards,bet=min_bet,state=\"Good\"):\n",
    "        self.name = name\n",
    "        self.money = money\n",
    "        self.cards = cards\n",
    "        self.bet = bet\n",
    "        self.state = state\n",
    "        print(f\"{self.name} has entered the game!\\n\")\n",
    "        \n",
    "    def __str__(self):\n",
    "        return f\"{self.name} has ${self.money}\"\n",
    "    \n",
    "    def add_cards(self,new_cards):\n",
    "        self.cards.append(new_cards)\n",
    "            \n",
    "    def bets(self):\n",
    "        add = float(input(f\"{self.name}, how much more would you like to bet? \"))\n",
    "        while add > self.money:\n",
    "            add = float(input(f\"You only have ${self.money}! You can only bet less than that! \"))\n",
    "        self.bet += add\n",
    "        return add\n",
    "        \n",
    "    def return_cards(self):\n",
    "        return self.cards.pop()\n",
    "    \n",
    "    \n",
    "\"\"\"\n",
    "This is where I start defining the logic and functions of the game itself using the objects above\n",
    "\"\"\"\n",
    "\n",
    "        \n",
    "players = []\n",
    "house = House(0,0,Deck())\n",
    "house.deck.shuffle()\n",
    "\n",
    "def create_players():\n",
    "    \"\"\"\n",
    "    This creates all the players\n",
    "    \"\"\"\n",
    "    number = int(input(\"How many players are there? \"))\n",
    "    names = []\n",
    "    for i in range(number):\n",
    "        name = input(f\"Player {i+1}, what is your name? \")\n",
    "        players.append(Player(name,100,[]))\n",
    "    return players\n",
    "        \n",
    "def start_round():\n",
    "    for player in players:\n",
    "        house.pool += min_bet\n",
    "        player.money -= min_bet\n",
    "        for i in range(2):\n",
    "            player.add_cards(house.deck.deal_one())\n",
    "            \n",
    "    print(\"_\"*100,\"\\n\")\n",
    "    print(f\"\\nNew Round\\n\")\n",
    "\n",
    "def betting():\n",
    "    \"\"\"\n",
    "    This updates the bets of all the players\n",
    "    \"\"\"\n",
    "    for player in players:\n",
    "        if player.state == \"Bust\":\n",
    "            pass\n",
    "        else:\n",
    "            add = player.bets()\n",
    "            house.pool += add\n",
    "            player.money -= add\n",
    "        \n",
    "def hit():\n",
    "    \"\"\"\n",
    "    Asks all the players if they want another card\n",
    "    \"\"\"\n",
    "    hits = []\n",
    "    for player in players:\n",
    "        if player.state == \"Bust\":\n",
    "            pass\n",
    "        else:\n",
    "            please = input(f\"{player.name}, would you like another card? (y/n)\")\n",
    "            while please not in ['y','n']:\n",
    "                player = input(\"Choose either y/n\")\n",
    "            if please == 'n':\n",
    "                hits.append('n')\n",
    "            if please == 'y':\n",
    "                player.add_cards(house.deck.deal_one())\n",
    "                hits.append('y')\n",
    "    print(\"\\n\",\"-\"*100)\n",
    "    return hits\n",
    "            \n",
    "def count():\n",
    "    \"\"\"\n",
    "    This counts up a person's card\n",
    "    \"\"\"\n",
    "    amount = []\n",
    "    for player in players:\n",
    "        total = 0\n",
    "        for card in player.cards:\n",
    "            total+=card.value\n",
    "        amount.append(total)\n",
    "    return amount\n",
    "\n",
    "def translate(values):\n",
    "    \"\"\"\n",
    "    This checks if a person has busted\n",
    "    \"\"\"\n",
    "    reading = []\n",
    "    for value in values:\n",
    "        if value>28:\n",
    "            reading.append(\"Bust\")\n",
    "        else:\n",
    "            reading.append(value)\n",
    "    for i in range(len(reading)):\n",
    "        if reading[i] == \"Bust\":\n",
    "            players[i].state = \"Bust\"\n",
    "    return reading\n",
    "        \n",
    "def win(readings):\n",
    "    \"\"\"\n",
    "    This determines who wins a round\n",
    "    \"\"\"\n",
    "    survivors = []\n",
    "    winners = []\n",
    "    for i in range(len(readings)):\n",
    "        if readings[i] == \"Bust\":\n",
    "            pass\n",
    "        else:\n",
    "            survivors.append((readings[i],i))\n",
    "    if len(survivors)==0:\n",
    "        pass\n",
    "    else:\n",
    "        ends=[]\n",
    "        for thing in survivors:\n",
    "            ends.append(thing[0])\n",
    "        best = max(ends)\n",
    "        for thing in survivors:\n",
    "            if thing[0] == best:\n",
    "                winners.append(thing)\n",
    "    return winners\n",
    "            \n",
    "def winnings(winners):\n",
    "    \"\"\"\n",
    "    This distributes the pool among the winners\"\"\"\n",
    "    if len(winners)==0:\n",
    "        house.bank += house.pool\n",
    "    else:\n",
    "        for winner in winners:\n",
    "            players[winner[1]].money += house.pool/len(winners)\n",
    "        for winner in winners:\n",
    "            print(f\"{players[winner[1]].name} has won ${house.pool/len(winners)-players[winner[1]].bet}\")\n",
    "            \n",
    "def current():\n",
    "    for player in players:\n",
    "        if player.state == \"Bust\":\n",
    "            print(f\"{player.name} has bet ${player.bet}! {player.name} has Busted!\")\n",
    "            print(\"\")\n",
    "        else:\n",
    "            print(f\"{player.name} has bet ${player.bet}!:\")\n",
    "            for card in player.cards:\n",
    "                print(card)\n",
    "            print(\"\")\n",
    "        \n",
    "def end_round():\n",
    "    \"\"\"\n",
    "    This sets the game up for aother round\n",
    "    \"\"\"\n",
    "    for player in players:\n",
    "        for i in range(len(player.cards)):\n",
    "            house.add_cards(player.return_cards())\n",
    "        player.state = \"Good\"\n",
    "        player.bet = min_bet\n",
    "        print(f\"{player.name} now has ${player.money}\")\n",
    "    house.deck.shuffle()\n",
    "    house.pool = 0\n",
    "    print(\"_\"*100)\n",
    "    \n",
    "    \n",
    "    \n",
    "\n",
    "time = 1 \n",
    "def blackjack():\n",
    "    house = House(0,0,Deck())\n",
    "    house.deck.shuffle()\n",
    "    players = create_players()\n",
    "    time = 1\n",
    "    \n",
    "    for i in range(2):\n",
    "        start_round()\n",
    "        current()\n",
    "        \n",
    "        states = []\n",
    "        keep_going = []\n",
    "        for player in players:\n",
    "            states.append(player.state)\n",
    "            keep_going.append(\"y\")\n",
    "        while states != [\"Bust\"]*len(players) and states != [\"Bust\",\"Good\"] and states != [\"Good\",\"Bust\"] and keep_going != [\"n\"]*len(players):\n",
    "            keep_going = []\n",
    "            states = []\n",
    "            betting()\n",
    "            keep_going.extend(hit())\n",
    "            translate(count())\n",
    "            news = input(\"Show results? \")\n",
    "            if news == \"\":\n",
    "                pass\n",
    "            print(\"-\"*100)\n",
    "            current()\n",
    "            for player in players:\n",
    "                states.append(player.state)\n",
    "        else:\n",
    "            winnings(win(translate(count())))\n",
    "            end_round()\n",
    "            time += 1\n",
    "            new = input(\"New Round? \")\n",
    "            if new == '':\n",
    "                pass\n",
    "            \n",
    "\n",
    "blackjack()"
   ]
  },
  {
   "cell_type": "code",
   "execution_count": 16,
   "metadata": {},
   "outputs": [
    {
     "name": "stdout",
     "output_type": "stream",
     "text": [
      "Ryan\n",
      "Kyra\n"
     ]
    }
   ],
   "source": [
    "for player in players:\n",
    "    print(player.name)"
   ]
  },
  {
   "cell_type": "code",
   "execution_count": 17,
   "metadata": {},
   "outputs": [
    {
     "data": {
      "text/plain": [
       "6"
      ]
     },
     "execution_count": 17,
     "metadata": {},
     "output_type": "execute_result"
    }
   ],
   "source": [
    "sum([1,2,3])"
   ]
  },
  {
   "cell_type": "code",
   "execution_count": 22,
   "metadata": {},
   "outputs": [
    {
     "data": {
      "text/plain": [
       "4"
      ]
     },
     "execution_count": 22,
     "metadata": {},
     "output_type": "execute_result"
    }
   ],
   "source": [
    "max([1,2,3,4,4])"
   ]
  },
  {
   "cell_type": "code",
   "execution_count": 23,
   "metadata": {},
   "outputs": [
    {
     "name": "stdout",
     "output_type": "stream",
     "text": [
      "2\n"
     ]
    }
   ],
   "source": [
    "print(f\"{1+1}\")"
   ]
  },
  {
   "cell_type": "code",
   "execution_count": 2,
   "metadata": {},
   "outputs": [
    {
     "name": "stdout",
     "output_type": "stream",
     "text": [
      "Hello\n"
     ]
    }
   ],
   "source": [
    "def example():\n",
    "    qwe=[]\n",
    "    if len(qwe):\n",
    "        pass\n",
    "    print(\"Hello\")\n",
    "    \n",
    "example()"
   ]
  },
  {
   "cell_type": "code",
   "execution_count": 4,
   "metadata": {},
   "outputs": [
    {
     "data": {
      "text/plain": [
       "[1]"
      ]
     },
     "execution_count": 4,
     "metadata": {},
     "output_type": "execute_result"
    }
   ],
   "source": [
    "q = []\n",
    "\n",
    "def hu():\n",
    "    q.append(1)\n",
    "    \n",
    "hu()\n",
    "q"
   ]
  },
  {
   "cell_type": "code",
   "execution_count": null,
   "metadata": {},
   "outputs": [],
   "source": []
  }
 ],
 "metadata": {
  "kernelspec": {
   "display_name": "Python 3",
   "language": "python",
   "name": "python3"
  },
  "language_info": {
   "codemirror_mode": {
    "name": "ipython",
    "version": 3
   },
   "file_extension": ".py",
   "mimetype": "text/x-python",
   "name": "python",
   "nbconvert_exporter": "python",
   "pygments_lexer": "ipython3",
   "version": "3.7.6"
  }
 },
 "nbformat": 4,
 "nbformat_minor": 4
}
